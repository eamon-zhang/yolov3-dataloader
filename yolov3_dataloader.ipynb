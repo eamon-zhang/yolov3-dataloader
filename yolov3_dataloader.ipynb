{
  "nbformat": 4,
  "nbformat_minor": 0,
  "metadata": {
    "colab": {
      "name": "yolov3-dataloader.ipynb",
      "provenance": [],
      "collapsed_sections": [
        "aLym52a0bWyL",
        "W2gi-8X7f2A2",
        "YErxkfC8nB_u",
        "FOGvEHFHnZT-",
        "ncQP4RkEgLYM",
        "ykDtfOqJrrry",
        "gmP07ozGoAPX",
        "buwJRRWrb2iM"
      ]
    },
    "kernelspec": {
      "name": "python3",
      "display_name": "Python 3"
    },
    "accelerator": "GPU"
  },
  "cells": [
    {
      "cell_type": "markdown",
      "metadata": {
        "id": "qse0qhKQoOji",
        "colab_type": "text"
      },
      "source": [
        "# Yolov3 Dataloader\n",
        "\n",
        "Author: Kevin Yu (github.com/yqlbu) \\\n",
        "Email: kevinyu211@yahoo.com \\\n",
        " \\\n",
        "** This tool is tailored for those who want to train their custom dataset on a Yolov3 Model. \\\n",
        "\n",
        "** Make sure you read the instructions for each step carefully !!!\n",
        "\n",
        "** If you following the instructions below step by step, it will generate a new trained-weight in the end, and you may download it to your local machine. \\\n",
        "\n",
        "** In the github repo, you can find a \"demo.sh\" to test the result. \\\n",
        " \\\n",
        "\n",
        "\n",
        "\n",
        "#### Good Luck!"
      ]
    },
    {
      "cell_type": "markdown",
      "metadata": {
        "id": "aLym52a0bWyL",
        "colab_type": "text"
      },
      "source": [
        " # Setup"
      ]
    },
    {
      "cell_type": "markdown",
      "metadata": {
        "id": "W2gi-8X7f2A2",
        "colab_type": "text"
      },
      "source": [
        "### Install cuDNN-10.0 and other dependecies"
      ]
    },
    {
      "cell_type": "code",
      "metadata": {
        "id": "kDGs_EKDmVhw",
        "colab_type": "code",
        "colab": {}
      },
      "source": [
        "# Download the cuDNN driver\n",
        "!wget https://hidden-boat-623a.keviny-cloud.workers.dev/Software/cudnn-10.0-linux-x64-v7.5.0.56.tgz -O cudnn-10.0-linux-x64-v7.5.0.56.tgz\n",
        "# We're unzipping the cuDNN files from your Drive folder directly to the VM CUDA folders\n",
        "!tar -xzvf cudnn-10.0-linux-x64-v7.5.0.56.tgz -C /usr/local/\n",
        "!chmod a+r /usr/local/cuda/include/cudnn.h\n",
        "\n",
        "# install python-nvcc plugin\n",
        "!pip install git+git://github.com/andreinechaev/nvcc4jupyter.git\n",
        "%load_ext nvcc_plugin\n",
        "\n",
        "# check if installed successfully\n",
        "!/usr/local/cuda/bin/nvcc --version"
      ],
      "execution_count": 0,
      "outputs": []
    },
    {
      "cell_type": "markdown",
      "metadata": {
        "id": "YErxkfC8nB_u",
        "colab_type": "text"
      },
      "source": [
        "### Clone Yolov3-Darknet"
      ]
    },
    {
      "cell_type": "code",
      "metadata": {
        "id": "b7LKlP4HXuBn",
        "colab_type": "code",
        "colab": {}
      },
      "source": [
        "!git clone https://github.com/AlexeyAB/darknet\n",
        "%cd darknet\n",
        "!wget https://hidden-boat-623a.keviny-cloud.workers.dev/Software/yolo-weights/yolov3.weights -O /content/darknet/yolov3.weights\n",
        "!wget https://hidden-boat-623a.keviny-cloud.workers.dev/Software/yolo-weights/yolov3-tiny.weights -O /content/darknet/yolov3-tiny.weights\n",
        "!wget https://hidden-boat-623a.keviny-cloud.workers.dev/Software/yolo-weights/darknet53.conv.74 -O /content/darknet/cfg/darknet53.conv.74"
      ],
      "execution_count": 0,
      "outputs": []
    },
    {
      "cell_type": "markdown",
      "metadata": {
        "id": "FOGvEHFHnZT-",
        "colab_type": "text"
      },
      "source": [
        "### Compile YOLOv3-Darknet with CUDA 10.0"
      ]
    },
    {
      "cell_type": "code",
      "metadata": {
        "id": "XA-kzzQBnibH",
        "colab_type": "code",
        "colab": {}
      },
      "source": [
        "!export PATH=/usr/local/cuda-10.0/bin${PATH:+:${PATH}}\n",
        "!export LD_LIBRARY_PATH=/usr/local/cuda-10.0/lib64${LD_LIBRARY_PATH:+:${LD_LIBRARY_PATH}}\n",
        "%cd /content/darknet\n",
        "!sed -i 's|GPU=0|GPU=1|' Makefile\n",
        "!sed -i 's|CUDNN=0|CUDNN=1|' Makefile\n",
        "!sed -i 's|OPENCV=0|OPENCV=1|' Makefile"
      ],
      "execution_count": 0,
      "outputs": []
    },
    {
      "cell_type": "code",
      "metadata": {
        "id": "jlvO3Aqtq34b",
        "colab_type": "code",
        "colab": {}
      },
      "source": [
        "!make"
      ],
      "execution_count": 0,
      "outputs": []
    },
    {
      "cell_type": "markdown",
      "metadata": {
        "id": "ncQP4RkEgLYM",
        "colab_type": "text"
      },
      "source": [
        "### Clone the project from Github"
      ]
    },
    {
      "cell_type": "code",
      "metadata": {
        "id": "qiiDqn7ScCS5",
        "colab_type": "code",
        "colab": {}
      },
      "source": [
        "%cd /content\n",
        "!git clone https://github.com/yqlbu/yolov3-dataloader\n",
        "!mkdir /content/yolov3-dataloader/backup"
      ],
      "execution_count": 0,
      "outputs": []
    },
    {
      "cell_type": "markdown",
      "metadata": {
        "id": "ykDtfOqJrrry",
        "colab_type": "text"
      },
      "source": [
        "# Upload dataset"
      ]
    },
    {
      "cell_type": "markdown",
      "metadata": {
        "id": "epgJCd1orwEf",
        "colab_type": "text"
      },
      "source": [
        "*** Please follow the steps below to upload your dataset to the data folder located at  '/content/data'"
      ]
    },
    {
      "cell_type": "markdown",
      "metadata": {
        "id": "e5lljLF_psL3",
        "colab_type": "text"
      },
      "source": [
        "Step #0: Prepare your own dataset\n",
        "\n",
        "- On your local machine, create a new folder named \"data\"\n",
        "- Put all the images and the \".xml\" files associated with each image into this data folder\n",
        "- Zip the data folder\n",
        "\n",
        "*** Noted: \n",
        "- You should have a zip file called \"data.zip\" that contains all the images aligned with the .xml files to be trained before moving to the next step.\n",
        "- Unfortunately, the only image format that this tool supports is the \".jpg\" format. \".png\", '.jpeg' format will not work."
      ]
    },
    {
      "cell_type": "markdown",
      "metadata": {
        "id": "lyelGXq_Wtij",
        "colab_type": "text"
      },
      "source": [
        "Step #1: Mount your Google Drive\n",
        "\n",
        "To do so, you may simply click the Mount Drive button on the left column"
      ]
    },
    {
      "cell_type": "markdown",
      "metadata": {
        "id": "Lnp9k0d_XLX1",
        "colab_type": "text"
      },
      "source": [
        "Step #2: Unzip the data file from your Google Drive to the 'yolov3-dataloader' directory\n",
        "- Note: if your path contains a \" \" (space), you should add a '\\ ' between characters\n",
        "- eg: '/content/drive/Shared\\ drives/dataset/data.zip'\n",
        "- To easily find the path just simply find the data.zip file in your drive and right-click the \"copy path\"\n",
        "- Please make sure you correctly find your file path before executing this cell. Otherwise, it won't work."
      ]
    },
    {
      "cell_type": "code",
      "metadata": {
        "id": "LAUaRap8Ml5t",
        "colab_type": "code",
        "colab": {}
      },
      "source": [
        "!unzip /content/drive/Shared\\ drives/VPS/dataset/data.zip -d /content/yolov3-dataloader\n",
        "!echo '  Finished loading dataset !'"
      ],
      "execution_count": 0,
      "outputs": []
    },
    {
      "cell_type": "markdown",
      "metadata": {
        "id": "Blb_Cnn7Xge_",
        "colab_type": "text"
      },
      "source": [
        "*** Noted: If the above commands excuted correctly, you may click the 'refresh button' on the left column, and you will see the data folder created inside the 'yolov3-dataloader' directory\n",
        "\n",
        "*** Now you should be good to move forward ! Good Luck !"
      ]
    },
    {
      "cell_type": "markdown",
      "metadata": {
        "id": "gmP07ozGoAPX",
        "colab_type": "text"
      },
      "source": [
        "# Create config files for training"
      ]
    },
    {
      "cell_type": "markdown",
      "metadata": {
        "id": "FK8q7clDuZWa",
        "colab_type": "text"
      },
      "source": [
        "*** Notes (Please read carefully before you excute the cells below):\n",
        "\n",
        " - Please make sure you set config parameters below corrently. Otherwise, you will not be able to activate the training process.\n",
        " - MODEL_NAME is the name of your new model\n",
        " - CLASS_NAME is associated with all the classes that your dataset contains, please fill in the CLASS_NAME list correctly with your classes\n",
        " - CLASS_NUM is associated with the total number of classes that your dataset contains\n",
        " - MAX_BATCHES is the total number of iterations in the training\n",
        " - If you set all the parameters mentioned above properly, you should be good to move forward"
      ]
    },
    {
      "cell_type": "code",
      "metadata": {
        "id": "lwikhrbvoMDP",
        "colab_type": "code",
        "colab": {}
      },
      "source": [
        "import os\n",
        "\n",
        "#New Model Parameters\n",
        "\n",
        "#Replace NEW_MODEL_NAME with your new model name\n",
        "MODEL_NAME = 'YOUR_MODEL'\n",
        "#Put your classes tag below\n",
        "CLASS_NAME = [\n",
        "    \"CLASS_1\",\n",
        "    \"CLASS_2\"\n",
        "]\n",
        "#Replace # with your classes number (int), 2 is set as the default value\n",
        "CLASS_NUM = 2\n",
        "#Replace your desired batch # (6000 as default)\n",
        "MAX_BATCHES = 6000\n",
        "\n",
        "%cd /content/yolov3-dataloader"
      ],
      "execution_count": 0,
      "outputs": []
    },
    {
      "cell_type": "code",
      "metadata": {
        "id": "VnIQ2FnToY36",
        "colab_type": "code",
        "colab": {}
      },
      "source": [
        "#class.name\n",
        "with open(MODEL_NAME+'.names', \"a+\") as file:\n",
        "    file.seek(0)\n",
        "    for i in CLASS_NAME:\n",
        "        file.write(i + '\\n')\n",
        "    print(MODEL_NAME+'.names'+' has been successfully created!')\n",
        "    file.close()"
      ],
      "execution_count": 0,
      "outputs": []
    },
    {
      "cell_type": "code",
      "metadata": {
        "id": "B6MtNKzRobCS",
        "colab_type": "code",
        "colab": {}
      },
      "source": [
        "#class.data\n",
        "with open(MODEL_NAME+'.data', \"a+\") as file:\n",
        "    file.seek(0)\n",
        "    file.write('class = ' + str(CLASS_NUM) + '\\n')\n",
        "    file.write('train = /content/yolov3-dataloader/train.txt' + '\\n')\n",
        "    file.write('valid = /content/yolov3-dataloader/test.txt' + '\\n')\n",
        "    file.write('backup = /content/yolov3-dataloader/backup' + '\\n')\n",
        "    file.write('names = /content/yolov3-dataloader/' + MODEL_NAME + '.data' + '\\n')\n",
        "    print(MODEL_NAME+'.data'+' has been successfully created!')\n",
        "    file.close()"
      ],
      "execution_count": 0,
      "outputs": []
    },
    {
      "cell_type": "code",
      "metadata": {
        "id": "VtIKMtH-odSx",
        "colab_type": "code",
        "colab": {}
      },
      "source": [
        "#dataDispatch.py\n",
        "with open('dataDispatch.py', \"r\") as file:\n",
        "    file.seek(0)\n",
        "    all_lines = file.readlines()\n",
        "    file.close()\n",
        "with open('dataDispatch.py', \"w\") as file:\n",
        "    all_lines[7] = 'classes = ' + str(CLASS_NAME) + '\\n'\n",
        "    print(all_lines[7].strip())\n",
        "    file.writelines(all_lines)\n",
        "    print('dataDispatch.py'+' has been successfully modified!')\n",
        "    file.close()"
      ],
      "execution_count": 0,
      "outputs": []
    },
    {
      "cell_type": "code",
      "metadata": {
        "id": "P9ZsZTTLohc3",
        "colab_type": "code",
        "colab": {}
      },
      "source": [
        "#class-yolov3-tiny.cfg\n",
        "with open('temp-config.txt', \"r\") as file:\n",
        "    file.seek(0)\n",
        "    all_lines = file.readlines()\n",
        "    file.close()\n",
        "with open(MODEL_NAME+'-yolov3-tiny.cfg', \"w\") as file:\n",
        "    #modify class #\n",
        "    all_lines[134] = 'classes=' + str(CLASS_NUM) + '\\n'\n",
        "    all_lines[176] = 'classes=' + str(CLASS_NUM) + '\\n'\n",
        "    #modify max-batches\n",
        "    all_lines[19] = 'max_batches=' + str(MAX_BATCHES) + '\\n'    \n",
        "    #modify filter ## filter = (CLASS_NUM+5) *3 ##\n",
        "    all_lines[126] = 'filters=' + str((CLASS_NUM+5) *3) + '\\n'\n",
        "    all_lines[170] = 'filters=' + str((CLASS_NUM+5) *3) + '\\n'\n",
        "    #overwrite all\n",
        "    file.writelines(all_lines)\n",
        "    print(MODEL_NAME+'-yolov3-tiny.cfg'+' has been successfully created!')\n",
        "    file.close()"
      ],
      "execution_count": 0,
      "outputs": []
    },
    {
      "cell_type": "code",
      "metadata": {
        "id": "ko3TyMGXoflw",
        "colab_type": "code",
        "colab": {}
      },
      "source": [
        "#train.sh\n",
        "with open('train.sh', \"r\") as file:\n",
        "    file.seek(0)\n",
        "    all_lines = file.readlines()\n",
        "    file.close()\n",
        "with open('train.sh', \"w\") as file:\n",
        "    all_lines[5] = '$PRJ_PATH/' + MODEL_NAME + '.data \\\\' + '\\n'\n",
        "    all_lines[6] = '$PRJ_PATH/' + MODEL_NAME+'-yolov3-tiny.cfg' + ' \\\\' + '\\n'\n",
        "    file.writelines(all_lines)\n",
        "    print('train.sh'+' has been successfully modified!')\n",
        "    file.close()"
      ],
      "execution_count": 0,
      "outputs": []
    },
    {
      "cell_type": "markdown",
      "metadata": {
        "id": "buwJRRWrb2iM",
        "colab_type": "text"
      },
      "source": [
        "# Training"
      ]
    },
    {
      "cell_type": "markdown",
      "metadata": {
        "id": "KUgXcDa4wVBE",
        "colab_type": "text"
      },
      "source": [
        "*** Notes:\n",
        "\n",
        " - Hit the \"Refresh\" button on the left column, and then navigate to the \"/yolov3-dataloader\" directory\n",
        " - Check if the directory contains the \".data\", the \".names\", and the \".cfg\" files. If you miss one or more of the files, please check the instructions from the above steps.\n",
        " - Now you should be good to activate the training process, good luck !"
      ]
    },
    {
      "cell_type": "code",
      "metadata": {
        "id": "B-RomKWrgWsp",
        "colab_type": "code",
        "colab": {}
      },
      "source": [
        "#start training\n",
        "!export PATH=/usr/local/cuda-10.0/bin${PATH:+:${PATH}}\n",
        "!export LD_LIBRARY_PATH=/usr/local/cuda-10.0/lib64${LD_LIBRARY_PATH:+:${LD_LIBRARY_PATH}}\n",
        "%cd /content/yolov3-dataloader/\n",
        "!python dataDispatch.py\n",
        "!source train.sh\n",
        "!echo '*** Congratulations! Training has completed. Enjoy! ***'"
      ],
      "execution_count": 0,
      "outputs": []
    },
    {
      "cell_type": "markdown",
      "metadata": {
        "id": "IBtHW5VbZtKB",
        "colab_type": "text"
      },
      "source": [
        "*** Noted: \\\n",
        "- Once the training has finished, you may now go to the '/content/yolov3-dataload/backup' directory. \\\n",
        "- Download the final weights to your local machine. Enjoy !"
      ]
    },
    {
      "cell_type": "markdown",
      "metadata": {
        "id": "yllA1i_PxgiH",
        "colab_type": "text"
      },
      "source": [
        "# Demo"
      ]
    },
    {
      "cell_type": "markdown",
      "metadata": {
        "id": "VBevdjxPxjOo",
        "colab_type": "text"
      },
      "source": [
        "** Now that you have successfully trained your own dataset with the YOLOv3 model, it is time to test it out ! \\\n",
        " \\\n",
        "** Please follow the steps below:\n",
        "\n",
        " - Download the \".data\", the \".cfg\" from \"/content/yolov3-dataloader\", and the \"final_weight\" from the \"/content/yolov3-dataloader/backup\" directory\n",
        " - On your local machine, navigate to the \"/yolov3-dataloader\" directory, then type the following commands \\\n",
        "   [a] nano demo.sh \\\n",
        "   -> if you do not wish to stream data from a media file (.mp4), ignore this command \\\n",
        "   [b] chmod +x demo.sh \\\n",
        "   [c] ./demo.sh \\\n",
        "\n",
        "** Now, you should be good to go ! Enjoy XD! \\\n",
        "** If you have any suggestions or comments, please contact me via kevinyu211@yahoo.com\n",
        "\n",
        "\n"
      ]
    }
  ]
}